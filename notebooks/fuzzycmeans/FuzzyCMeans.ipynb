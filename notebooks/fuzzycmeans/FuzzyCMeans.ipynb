{
 "cells": [
  {
   "cell_type": "code",
   "execution_count": null,
   "metadata": {},
   "outputs": [],
   "source": [
    "import numpy as np\n",
    "import matplotlib.pyplot as plt\n",
    "import pandas as pd\n",
    "\n",
    "from src.clustering.FuzzyCMeans import FuzzyCMeans"
   ]
  },
  {
   "cell_type": "code",
   "execution_count": null,
   "metadata": {},
   "outputs": [],
   "source": [
    "data = np.array([[0, 1], [1, 1], [1, 2], [2, 2], [9, 9], [9, 8], [8, 8], [2, 6], [2, 7], [1, 7]])"
   ]
  },
  {
   "cell_type": "code",
   "execution_count": null,
   "metadata": {},
   "outputs": [],
   "source": [
    "# Visualize data\n",
    "plt.scatter(data[:, 0], data[:, 1])\n",
    "plt.show()"
   ]
  },
  {
   "cell_type": "code",
   "execution_count": null,
   "metadata": {},
   "outputs": [],
   "source": [
    "df = pd.DataFrame(data, columns=[\"X\", \"Y\"])\n",
    "\n",
    "fcm = FuzzyCMeans(c=3, m=2)\n",
    "fcm.fit_predict(df)\n",
    "\n",
    "# Print membership matrix\n",
    "print(fcm.u)"
   ]
  },
  {
   "cell_type": "code",
   "execution_count": null,
   "metadata": {},
   "outputs": [],
   "source": [
    "# Visualize clusters\n",
    "plt.scatter(data[:, 0], data[:, 1], c=np.argmax(fcm.u, axis=0))\n",
    "\n",
    "# Visualize centroids\n",
    "plt.scatter(fcm.centroids[:, 0], fcm.centroids[:, 1], c='r', marker='x')\n",
    "\n",
    "plt.legend(['Data', 'Centroids'])\n",
    "\n",
    "plt.show()"
   ]
  }
 ],
 "metadata": {
  "kernelspec": {
   "display_name": "Python 3",
   "language": "python",
   "name": "python3"
  },
  "language_info": {
   "codemirror_mode": {
    "name": "ipython",
    "version": 3
   },
   "file_extension": ".py",
   "mimetype": "text/x-python",
   "name": "python",
   "nbconvert_exporter": "python",
   "pygments_lexer": "ipython3",
   "version": "3.7.16"
  }
 },
 "nbformat": 4,
 "nbformat_minor": 2
}
