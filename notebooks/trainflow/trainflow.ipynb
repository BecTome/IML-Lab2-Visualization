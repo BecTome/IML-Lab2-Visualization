{
 "cells": [
  {
   "cell_type": "markdown",
   "metadata": {},
   "source": [
    "# Complete Training and Evaluation Pipeline"
   ]
  },
  {
   "cell_type": "code",
   "execution_count": 20,
   "metadata": {},
   "outputs": [],
   "source": [
    "from src.read.processing import Processing\n",
    "from src.clustering import Birch, CLARA, DBSCAN, FuzzyCMeans, KMeans\n",
    "from src.evaluation.evaluator import Evaluator\n",
    "from src.trainflow.TrainFlow import TrainFlow\n",
    "import numpy as np"
   ]
  },
  {
   "cell_type": "markdown",
   "metadata": {},
   "source": [
    "## Trainflow Tutorial"
   ]
  },
  {
   "cell_type": "markdown",
   "metadata": {},
   "source": [
    "Trainflow follows sequentially the following steps:\n",
    "\n",
    "- **Step 1**: Load the data\n",
    "- **Step 2**: Preprocess the data\n",
    "- **Step 3**: Tunes hyperparameters\n",
    "- **Step 4**: Train the model\n",
    "- **Step 5**: Evaluate the model\n",
    "- **Step 6**: Save the model and all the related info"
   ]
  },
  {
   "cell_type": "markdown",
   "metadata": {},
   "source": [
    "If `hyperparams` argument is set to None (default):\n",
    "\n",
    "- Hyperparameters are tuned\n",
    "- The best model is trained\n",
    "\n",
    "otherwise:\n",
    "\n",
    "- Provided `hyperparams` are used as training model"
   ]
  },
  {
   "cell_type": "markdown",
   "metadata": {},
   "source": [
    "**Example**"
   ]
  },
  {
   "cell_type": "code",
   "execution_count": 21,
   "metadata": {},
   "outputs": [
    {
     "name": "stderr",
     "output_type": "stream",
     "text": [
      "12:40:24 - src.utils.logger - INFO - Running Birch on glass dataset\n",
      "12:40:24 - src.utils.logger - INFO - Running Birch on glass dataset\n",
      "12:40:24 - src.utils.logger - INFO - Running Birch on glass dataset\n",
      "12:40:24 - src.utils.logger - INFO - Running Birch on glass dataset\n",
      "INFO:src.utils.logger:Running Birch on glass dataset\n",
      "12:40:24 - src.utils.logger - INFO - \n",
      "==================================================\n",
      "Loading data\n",
      "==================================================\n",
      "\n",
      "12:40:24 - src.utils.logger - INFO - \n",
      "==================================================\n",
      "Loading data\n",
      "==================================================\n",
      "\n",
      "12:40:24 - src.utils.logger - INFO - \n",
      "==================================================\n",
      "Loading data\n",
      "==================================================\n",
      "\n",
      "12:40:24 - src.utils.logger - INFO - \n",
      "==================================================\n",
      "Loading data\n",
      "==================================================\n",
      "\n",
      "INFO:src.utils.logger:\n",
      "==================================================\n",
      "Loading data\n",
      "==================================================\n",
      "\n",
      "WARNING:root:Columns ['K'] are not in the dataset\n",
      "12:40:24 - src.utils.logger - INFO - Data loaded: glass\n",
      "12:40:24 - src.utils.logger - INFO - Data loaded: glass\n",
      "12:40:24 - src.utils.logger - INFO - Data loaded: glass\n",
      "12:40:24 - src.utils.logger - INFO - Data loaded: glass\n",
      "INFO:src.utils.logger:Data loaded: glass\n",
      "12:40:24 - src.utils.logger - INFO - \n",
      "==================================================\n",
      "Tuning hyperparameters\n",
      "==================================================\n",
      "\n",
      "12:40:24 - src.utils.logger - INFO - \n",
      "==================================================\n",
      "Tuning hyperparameters\n",
      "==================================================\n",
      "\n",
      "12:40:24 - src.utils.logger - INFO - \n",
      "==================================================\n",
      "Tuning hyperparameters\n",
      "==================================================\n",
      "\n",
      "12:40:24 - src.utils.logger - INFO - \n",
      "==================================================\n",
      "Tuning hyperparameters\n",
      "==================================================\n",
      "\n",
      "INFO:src.utils.logger:\n",
      "==================================================\n",
      "Tuning hyperparameters\n",
      "==================================================\n",
      "\n",
      "12:40:31 - src.utils.logger - INFO - \n",
      "==================================================\n",
      "Training model\n",
      "==================================================\n",
      "\n",
      "12:40:31 - src.utils.logger - INFO - \n",
      "==================================================\n",
      "Training model\n",
      "==================================================\n",
      "\n",
      "12:40:31 - src.utils.logger - INFO - \n",
      "==================================================\n",
      "Training model\n",
      "==================================================\n",
      "\n",
      "12:40:31 - src.utils.logger - INFO - \n",
      "==================================================\n",
      "Training model\n",
      "==================================================\n",
      "\n",
      "INFO:src.utils.logger:\n",
      "==================================================\n",
      "Training model\n",
      "==================================================\n",
      "\n",
      "12:40:31 - src.utils.logger - INFO - Trained with: {'threshold': 0.6, 'branching_factor': 90, 'n_clusters': 4}\n",
      "12:40:31 - src.utils.logger - INFO - Trained with: {'threshold': 0.6, 'branching_factor': 90, 'n_clusters': 4}\n",
      "12:40:31 - src.utils.logger - INFO - Trained with: {'threshold': 0.6, 'branching_factor': 90, 'n_clusters': 4}\n",
      "12:40:31 - src.utils.logger - INFO - Trained with: {'threshold': 0.6, 'branching_factor': 90, 'n_clusters': 4}\n",
      "INFO:src.utils.logger:Trained with: {'threshold': 0.6, 'branching_factor': 90, 'n_clusters': 4}\n",
      "12:40:31 - src.utils.logger - INFO - \n",
      "==================================================\n",
      "Evaluating the model\n",
      "==================================================\n",
      "\n",
      "12:40:31 - src.utils.logger - INFO - \n",
      "==================================================\n",
      "Evaluating the model\n",
      "==================================================\n",
      "\n",
      "12:40:31 - src.utils.logger - INFO - \n",
      "==================================================\n",
      "Evaluating the model\n",
      "==================================================\n",
      "\n",
      "12:40:31 - src.utils.logger - INFO - \n",
      "==================================================\n",
      "Evaluating the model\n",
      "==================================================\n",
      "\n",
      "INFO:src.utils.logger:\n",
      "==================================================\n",
      "Evaluating the model\n",
      "==================================================\n",
      "\n",
      "12:40:31 - src.utils.logger - INFO - Scores: {'threshold': 0.6, 'branching_factor': 90, 'n_clusters': 4, 'n_out_clusters': 4, 'n_in_classes': 6, 'homogeneity_score': 0.38574182493620124, 'completeness_score': 0.6443185936697116, 'v_measure_score': 0.48257485808231904, 'silhouette_score': 0.33766181730836425}\n",
      "12:40:31 - src.utils.logger - INFO - Scores: {'threshold': 0.6, 'branching_factor': 90, 'n_clusters': 4, 'n_out_clusters': 4, 'n_in_classes': 6, 'homogeneity_score': 0.38574182493620124, 'completeness_score': 0.6443185936697116, 'v_measure_score': 0.48257485808231904, 'silhouette_score': 0.33766181730836425}\n",
      "12:40:31 - src.utils.logger - INFO - Scores: {'threshold': 0.6, 'branching_factor': 90, 'n_clusters': 4, 'n_out_clusters': 4, 'n_in_classes': 6, 'homogeneity_score': 0.38574182493620124, 'completeness_score': 0.6443185936697116, 'v_measure_score': 0.48257485808231904, 'silhouette_score': 0.33766181730836425}\n",
      "12:40:31 - src.utils.logger - INFO - Scores: {'threshold': 0.6, 'branching_factor': 90, 'n_clusters': 4, 'n_out_clusters': 4, 'n_in_classes': 6, 'homogeneity_score': 0.38574182493620124, 'completeness_score': 0.6443185936697116, 'v_measure_score': 0.48257485808231904, 'silhouette_score': 0.33766181730836425}\n",
      "INFO:src.utils.logger:Scores: {'threshold': 0.6, 'branching_factor': 90, 'n_clusters': 4, 'n_out_clusters': 4, 'n_in_classes': 6, 'homogeneity_score': 0.38574182493620124, 'completeness_score': 0.6443185936697116, 'v_measure_score': 0.48257485808231904, 'silhouette_score': 0.33766181730836425}\n",
      "12:40:31 - src.utils.logger - INFO - \n",
      "==================================================\n",
      "Writing the results\n",
      "==================================================\n",
      "\n",
      "12:40:31 - src.utils.logger - INFO - \n",
      "==================================================\n",
      "Writing the results\n",
      "==================================================\n",
      "\n",
      "12:40:31 - src.utils.logger - INFO - \n",
      "==================================================\n",
      "Writing the results\n",
      "==================================================\n",
      "\n",
      "12:40:31 - src.utils.logger - INFO - \n",
      "==================================================\n",
      "Writing the results\n",
      "==================================================\n",
      "\n",
      "INFO:src.utils.logger:\n",
      "==================================================\n",
      "Writing the results\n",
      "==================================================\n",
      "\n",
      "12:40:31 - src.utils.logger - INFO - Results written in output//glass/Birch/threshold_0.6_branching_factor_90_n_clusters_4/22-10-2023_12h-40m-31s\n",
      "12:40:31 - src.utils.logger - INFO - Results written in output//glass/Birch/threshold_0.6_branching_factor_90_n_clusters_4/22-10-2023_12h-40m-31s\n",
      "12:40:31 - src.utils.logger - INFO - Results written in output//glass/Birch/threshold_0.6_branching_factor_90_n_clusters_4/22-10-2023_12h-40m-31s\n",
      "12:40:31 - src.utils.logger - INFO - Results written in output//glass/Birch/threshold_0.6_branching_factor_90_n_clusters_4/22-10-2023_12h-40m-31s\n",
      "INFO:src.utils.logger:Results written in output//glass/Birch/threshold_0.6_branching_factor_90_n_clusters_4/22-10-2023_12h-40m-31s\n",
      "12:40:31 - src.utils.logger - INFO - \n",
      "==================================================\n",
      "Done!\n",
      "==================================================\n",
      "\n",
      "12:40:31 - src.utils.logger - INFO - \n",
      "==================================================\n",
      "Done!\n",
      "==================================================\n",
      "\n",
      "12:40:31 - src.utils.logger - INFO - \n",
      "==================================================\n",
      "Done!\n",
      "==================================================\n",
      "\n",
      "12:40:31 - src.utils.logger - INFO - \n",
      "==================================================\n",
      "Done!\n",
      "==================================================\n",
      "\n",
      "INFO:src.utils.logger:\n",
      "==================================================\n",
      "Done!\n",
      "==================================================\n",
      "\n"
     ]
    }
   ],
   "source": [
    "tf = TrainFlow(\"glass\", \n",
    "                Birch.Birch, \n",
    "                [\"v_measure_score\", \"silhouette_score\"], \n",
    "                target=\"Type\")\n",
    "tf.run();"
   ]
  },
  {
   "cell_type": "markdown",
   "metadata": {},
   "source": [
    "Info generated"
   ]
  },
  {
   "cell_type": "markdown",
   "metadata": {},
   "source": [
    "Training params: Parameters used for training the model. In case of hyperparameter tuning, the best model is trained with the best parameters."
   ]
  },
  {
   "cell_type": "code",
   "execution_count": 22,
   "metadata": {},
   "outputs": [
    {
     "data": {
      "text/plain": [
       "{'threshold': 0.6, 'branching_factor': 90, 'n_clusters': 4}"
      ]
     },
     "execution_count": 22,
     "metadata": {},
     "output_type": "execute_result"
    }
   ],
   "source": [
    "tf.training_params"
   ]
  },
  {
   "cell_type": "code",
   "execution_count": 23,
   "metadata": {},
   "outputs": [
    {
     "data": {
      "text/plain": [
       "{'threshold': 0.6, 'branching_factor': 90, 'n_clusters': 4}"
      ]
     },
     "execution_count": 23,
     "metadata": {},
     "output_type": "execute_result"
    }
   ],
   "source": [
    "tf.d_best_params"
   ]
  },
  {
   "cell_type": "markdown",
   "metadata": {},
   "source": [
    "Results: Results of the hyperparameters tuning"
   ]
  },
  {
   "cell_type": "code",
   "execution_count": 30,
   "metadata": {},
   "outputs": [
    {
     "data": {
      "text/plain": [
       "{'threshold': 0.9,\n",
       " 'branching_factor': 50,\n",
       " 'n_clusters': 6,\n",
       " 'n_out_clusters': 6,\n",
       " 'n_in_classes': 6,\n",
       " 'homogeneity_score': 0.37275848809183343,\n",
       " 'completeness_score': 0.6320845802814954,\n",
       " 'v_measure_score': 0.46895858648517524,\n",
       " 'silhouette_score': 0.3666709876384292}"
      ]
     },
     "execution_count": 30,
     "metadata": {},
     "output_type": "execute_result"
    }
   ],
   "source": [
    "tf.df_results[tf.df_results[\"n_out_clusters\"] == 6].to_dict(\"records\")[0]"
   ]
  },
  {
   "cell_type": "markdown",
   "metadata": {},
   "source": [
    "Model: Trained model"
   ]
  },
  {
   "cell_type": "code",
   "execution_count": 10,
   "metadata": {},
   "outputs": [
    {
     "data": {
      "text/plain": [
       "Birch()"
      ]
     },
     "execution_count": 10,
     "metadata": {},
     "output_type": "execute_result"
    }
   ],
   "source": [
    "tf.trained_model"
   ]
  },
  {
   "cell_type": "code",
   "execution_count": 11,
   "metadata": {},
   "outputs": [
    {
     "data": {
      "text/plain": [
       "0.569081214712712"
      ]
     },
     "execution_count": 11,
     "metadata": {},
     "output_type": "execute_result"
    }
   ],
   "source": [
    "from sklearn.metrics import silhouette_score\n",
    "X = tf.data_loader.df.drop(columns=\"Type\")\n",
    "y_pred = tf.trained_model.predict(X)\n",
    "silhouette_score(X, y_pred)"
   ]
  },
  {
   "cell_type": "code",
   "execution_count": 12,
   "metadata": {},
   "outputs": [
    {
     "data": {
      "text/html": [
       "<div>\n",
       "<style scoped>\n",
       "    .dataframe tbody tr th:only-of-type {\n",
       "        vertical-align: middle;\n",
       "    }\n",
       "\n",
       "    .dataframe tbody tr th {\n",
       "        vertical-align: top;\n",
       "    }\n",
       "\n",
       "    .dataframe thead th {\n",
       "        text-align: right;\n",
       "    }\n",
       "</style>\n",
       "<table border=\"1\" class=\"dataframe\">\n",
       "  <thead>\n",
       "    <tr style=\"text-align: right;\">\n",
       "      <th></th>\n",
       "      <th>threshold</th>\n",
       "      <th>branching_factor</th>\n",
       "      <th>n_clusters</th>\n",
       "      <th>n_out_clusters</th>\n",
       "      <th>n_in_classes</th>\n",
       "      <th>homogeneity_score</th>\n",
       "      <th>completeness_score</th>\n",
       "      <th>v_measure_score</th>\n",
       "      <th>silhouette_score</th>\n",
       "    </tr>\n",
       "  </thead>\n",
       "  <tbody>\n",
       "    <tr>\n",
       "      <th>696</th>\n",
       "      <td>0.9</td>\n",
       "      <td>80</td>\n",
       "      <td>2</td>\n",
       "      <td>2</td>\n",
       "      <td>6</td>\n",
       "      <td>0.016371</td>\n",
       "      <td>0.222795</td>\n",
       "      <td>0.030501</td>\n",
       "      <td>0.569081</td>\n",
       "    </tr>\n",
       "  </tbody>\n",
       "</table>\n",
       "</div>"
      ],
      "text/plain": [
       "     threshold  branching_factor  n_clusters  n_out_clusters  n_in_classes  \\\n",
       "696        0.9                80           2               2             6   \n",
       "\n",
       "     homogeneity_score  completeness_score  v_measure_score  silhouette_score  \n",
       "696           0.016371            0.222795         0.030501          0.569081  "
      ]
     },
     "execution_count": 12,
     "metadata": {},
     "output_type": "execute_result"
    }
   ],
   "source": [
    "tf.evaluator.get_top_k_hyperparams('silhouette_score', 1)"
   ]
  },
  {
   "cell_type": "markdown",
   "metadata": {},
   "source": [
    "As we can see above, the trained model scores the same as the best model found during the hyperparameter tuning."
   ]
  },
  {
   "cell_type": "markdown",
   "metadata": {},
   "source": [
    "**Specified Hyperparameters**"
   ]
  },
  {
   "cell_type": "code",
   "execution_count": 17,
   "metadata": {},
   "outputs": [
    {
     "data": {
      "text/html": [
       "<div>\n",
       "<style scoped>\n",
       "    .dataframe tbody tr th:only-of-type {\n",
       "        vertical-align: middle;\n",
       "    }\n",
       "\n",
       "    .dataframe tbody tr th {\n",
       "        vertical-align: top;\n",
       "    }\n",
       "\n",
       "    .dataframe thead th {\n",
       "        text-align: right;\n",
       "    }\n",
       "</style>\n",
       "<table border=\"1\" class=\"dataframe\">\n",
       "  <thead>\n",
       "    <tr style=\"text-align: right;\">\n",
       "      <th></th>\n",
       "      <th>threshold</th>\n",
       "      <th>branching_factor</th>\n",
       "      <th>n_clusters</th>\n",
       "      <th>n_out_clusters</th>\n",
       "      <th>n_in_classes</th>\n",
       "      <th>homogeneity_score</th>\n",
       "      <th>completeness_score</th>\n",
       "      <th>v_measure_score</th>\n",
       "      <th>silhouette_score</th>\n",
       "    </tr>\n",
       "  </thead>\n",
       "  <tbody>\n",
       "    <tr>\n",
       "      <th>696</th>\n",
       "      <td>0.9</td>\n",
       "      <td>80</td>\n",
       "      <td>2</td>\n",
       "      <td>2</td>\n",
       "      <td>6</td>\n",
       "      <td>0.016371</td>\n",
       "      <td>0.222795</td>\n",
       "      <td>0.030501</td>\n",
       "      <td>0.569081</td>\n",
       "    </tr>\n",
       "    <tr>\n",
       "      <th>640</th>\n",
       "      <td>0.9</td>\n",
       "      <td>10</td>\n",
       "      <td>2</td>\n",
       "      <td>2</td>\n",
       "      <td>6</td>\n",
       "      <td>0.016371</td>\n",
       "      <td>0.222795</td>\n",
       "      <td>0.030501</td>\n",
       "      <td>0.569081</td>\n",
       "    </tr>\n",
       "    <tr>\n",
       "      <th>720</th>\n",
       "      <td>1.0</td>\n",
       "      <td>10</td>\n",
       "      <td>2</td>\n",
       "      <td>2</td>\n",
       "      <td>6</td>\n",
       "      <td>0.016371</td>\n",
       "      <td>0.222795</td>\n",
       "      <td>0.030501</td>\n",
       "      <td>0.569081</td>\n",
       "    </tr>\n",
       "    <tr>\n",
       "      <th>568</th>\n",
       "      <td>0.8</td>\n",
       "      <td>20</td>\n",
       "      <td>2</td>\n",
       "      <td>2</td>\n",
       "      <td>6</td>\n",
       "      <td>0.016371</td>\n",
       "      <td>0.222795</td>\n",
       "      <td>0.030501</td>\n",
       "      <td>0.569081</td>\n",
       "    </tr>\n",
       "    <tr>\n",
       "      <th>688</th>\n",
       "      <td>0.9</td>\n",
       "      <td>70</td>\n",
       "      <td>2</td>\n",
       "      <td>2</td>\n",
       "      <td>6</td>\n",
       "      <td>0.016371</td>\n",
       "      <td>0.222795</td>\n",
       "      <td>0.030501</td>\n",
       "      <td>0.569081</td>\n",
       "    </tr>\n",
       "    <tr>\n",
       "      <th>...</th>\n",
       "      <td>...</td>\n",
       "      <td>...</td>\n",
       "      <td>...</td>\n",
       "      <td>...</td>\n",
       "      <td>...</td>\n",
       "      <td>...</td>\n",
       "      <td>...</td>\n",
       "      <td>...</td>\n",
       "      <td>...</td>\n",
       "    </tr>\n",
       "    <tr>\n",
       "      <th>514</th>\n",
       "      <td>0.7</td>\n",
       "      <td>50</td>\n",
       "      <td>4</td>\n",
       "      <td>4</td>\n",
       "      <td>6</td>\n",
       "      <td>0.232214</td>\n",
       "      <td>0.329830</td>\n",
       "      <td>0.272545</td>\n",
       "      <td>0.257801</td>\n",
       "    </tr>\n",
       "    <tr>\n",
       "      <th>571</th>\n",
       "      <td>0.8</td>\n",
       "      <td>20</td>\n",
       "      <td>5</td>\n",
       "      <td>5</td>\n",
       "      <td>6</td>\n",
       "      <td>0.274986</td>\n",
       "      <td>0.303222</td>\n",
       "      <td>0.288415</td>\n",
       "      <td>0.256299</td>\n",
       "    </tr>\n",
       "    <tr>\n",
       "      <th>588</th>\n",
       "      <td>0.8</td>\n",
       "      <td>40</td>\n",
       "      <td>6</td>\n",
       "      <td>6</td>\n",
       "      <td>6</td>\n",
       "      <td>0.282250</td>\n",
       "      <td>0.372350</td>\n",
       "      <td>0.321099</td>\n",
       "      <td>0.252807</td>\n",
       "    </tr>\n",
       "    <tr>\n",
       "      <th>587</th>\n",
       "      <td>0.8</td>\n",
       "      <td>40</td>\n",
       "      <td>5</td>\n",
       "      <td>5</td>\n",
       "      <td>6</td>\n",
       "      <td>0.282250</td>\n",
       "      <td>0.376196</td>\n",
       "      <td>0.322521</td>\n",
       "      <td>0.251924</td>\n",
       "    </tr>\n",
       "    <tr>\n",
       "      <th>570</th>\n",
       "      <td>0.8</td>\n",
       "      <td>20</td>\n",
       "      <td>4</td>\n",
       "      <td>4</td>\n",
       "      <td>6</td>\n",
       "      <td>0.233975</td>\n",
       "      <td>0.326306</td>\n",
       "      <td>0.272533</td>\n",
       "      <td>0.206286</td>\n",
       "    </tr>\n",
       "  </tbody>\n",
       "</table>\n",
       "<p>800 rows × 9 columns</p>\n",
       "</div>"
      ],
      "text/plain": [
       "     threshold  branching_factor  n_clusters  n_out_clusters  n_in_classes  \\\n",
       "696        0.9                80           2               2             6   \n",
       "640        0.9                10           2               2             6   \n",
       "720        1.0                10           2               2             6   \n",
       "568        0.8                20           2               2             6   \n",
       "688        0.9                70           2               2             6   \n",
       "..         ...               ...         ...             ...           ...   \n",
       "514        0.7                50           4               4             6   \n",
       "571        0.8                20           5               5             6   \n",
       "588        0.8                40           6               6             6   \n",
       "587        0.8                40           5               5             6   \n",
       "570        0.8                20           4               4             6   \n",
       "\n",
       "     homogeneity_score  completeness_score  v_measure_score  silhouette_score  \n",
       "696           0.016371            0.222795         0.030501          0.569081  \n",
       "640           0.016371            0.222795         0.030501          0.569081  \n",
       "720           0.016371            0.222795         0.030501          0.569081  \n",
       "568           0.016371            0.222795         0.030501          0.569081  \n",
       "688           0.016371            0.222795         0.030501          0.569081  \n",
       "..                 ...                 ...              ...               ...  \n",
       "514           0.232214            0.329830         0.272545          0.257801  \n",
       "571           0.274986            0.303222         0.288415          0.256299  \n",
       "588           0.282250            0.372350         0.321099          0.252807  \n",
       "587           0.282250            0.376196         0.322521          0.251924  \n",
       "570           0.233975            0.326306         0.272533          0.206286  \n",
       "\n",
       "[800 rows x 9 columns]"
      ]
     },
     "execution_count": 17,
     "metadata": {},
     "output_type": "execute_result"
    }
   ],
   "source": [
    "tf.df_results"
   ]
  },
  {
   "cell_type": "code",
   "execution_count": 18,
   "metadata": {},
   "outputs": [
    {
     "data": {
      "text/plain": [
       "Index(['threshold', 'branching_factor', 'n_clusters', 'n_out_clusters',\n",
       "       'n_in_classes', 'homogeneity_score', 'completeness_score',\n",
       "       'v_measure_score', 'silhouette_score'],\n",
       "      dtype='object')"
      ]
     },
     "execution_count": 18,
     "metadata": {},
     "output_type": "execute_result"
    }
   ],
   "source": [
    "tf.df_results.columns"
   ]
  },
  {
   "cell_type": "code",
   "execution_count": 31,
   "metadata": {},
   "outputs": [
    {
     "data": {
      "text/html": [
       "<div>\n",
       "<style scoped>\n",
       "    .dataframe tbody tr th:only-of-type {\n",
       "        vertical-align: middle;\n",
       "    }\n",
       "\n",
       "    .dataframe tbody tr th {\n",
       "        vertical-align: top;\n",
       "    }\n",
       "\n",
       "    .dataframe thead th {\n",
       "        text-align: right;\n",
       "    }\n",
       "</style>\n",
       "<table border=\"1\" class=\"dataframe\">\n",
       "  <thead>\n",
       "    <tr style=\"text-align: right;\">\n",
       "      <th></th>\n",
       "      <th>threshold</th>\n",
       "      <th>branching_factor</th>\n",
       "      <th>n_clusters</th>\n",
       "      <th>n_out_clusters</th>\n",
       "      <th>n_in_classes</th>\n",
       "      <th>homogeneity_score</th>\n",
       "      <th>completeness_score</th>\n",
       "      <th>v_measure_score</th>\n",
       "      <th>silhouette_score</th>\n",
       "    </tr>\n",
       "  </thead>\n",
       "  <tbody>\n",
       "    <tr>\n",
       "      <th>514</th>\n",
       "      <td>0.7</td>\n",
       "      <td>50</td>\n",
       "      <td>4</td>\n",
       "      <td>4</td>\n",
       "      <td>6</td>\n",
       "      <td>0.232214</td>\n",
       "      <td>0.32983</td>\n",
       "      <td>0.272545</td>\n",
       "      <td>0.257801</td>\n",
       "    </tr>\n",
       "  </tbody>\n",
       "</table>\n",
       "</div>"
      ],
      "text/plain": [
       "     threshold  branching_factor  n_clusters  n_out_clusters  n_in_classes  \\\n",
       "514        0.7                50           4               4             6   \n",
       "\n",
       "     homogeneity_score  completeness_score  v_measure_score  silhouette_score  \n",
       "514           0.232214             0.32983         0.272545          0.257801  "
      ]
     },
     "execution_count": 31,
     "metadata": {},
     "output_type": "execute_result"
    }
   ],
   "source": [
    "tf.df_results[(tf.df_results[\"threshold\"].between(0.700000, 0.79))&\n",
    "              (tf.df_results[\"branching_factor\"] == 50)&\n",
    "              (tf.df_results[\"n_clusters\"] == 4)]"
   ]
  },
  {
   "cell_type": "code",
   "execution_count": 31,
   "metadata": {},
   "outputs": [
    {
     "name": "stderr",
     "output_type": "stream",
     "text": [
      "12:44:28 - src.utils.logger - INFO - Running Birch on glass dataset\n",
      "12:44:28 - src.utils.logger - INFO - Running Birch on glass dataset\n",
      "12:44:28 - src.utils.logger - INFO - Running Birch on glass dataset\n",
      "12:44:28 - src.utils.logger - INFO - Running Birch on glass dataset\n",
      "12:44:28 - src.utils.logger - INFO - Running Birch on glass dataset\n",
      "INFO:src.utils.logger:Running Birch on glass dataset\n",
      "12:44:28 - src.utils.logger - INFO - \n",
      "==================================================\n",
      "Loading data\n",
      "==================================================\n",
      "\n",
      "12:44:28 - src.utils.logger - INFO - \n",
      "==================================================\n",
      "Loading data\n",
      "==================================================\n",
      "\n",
      "12:44:28 - src.utils.logger - INFO - \n",
      "==================================================\n",
      "Loading data\n",
      "==================================================\n",
      "\n",
      "12:44:28 - src.utils.logger - INFO - \n",
      "==================================================\n",
      "Loading data\n",
      "==================================================\n",
      "\n",
      "12:44:28 - src.utils.logger - INFO - \n",
      "==================================================\n",
      "Loading data\n",
      "==================================================\n",
      "\n",
      "INFO:src.utils.logger:\n",
      "==================================================\n",
      "Loading data\n",
      "==================================================\n",
      "\n",
      "WARNING:root:Columns ['K'] are not in the dataset\n",
      "12:44:28 - src.utils.logger - INFO - Data loaded: glass\n",
      "12:44:28 - src.utils.logger - INFO - Data loaded: glass\n",
      "12:44:28 - src.utils.logger - INFO - Data loaded: glass\n",
      "12:44:28 - src.utils.logger - INFO - Data loaded: glass\n",
      "12:44:28 - src.utils.logger - INFO - Data loaded: glass\n",
      "INFO:src.utils.logger:Data loaded: glass\n",
      "12:44:28 - src.utils.logger - INFO - \n",
      "==================================================\n",
      "Training model\n",
      "==================================================\n",
      "\n",
      "12:44:28 - src.utils.logger - INFO - \n",
      "==================================================\n",
      "Training model\n",
      "==================================================\n",
      "\n",
      "12:44:28 - src.utils.logger - INFO - \n",
      "==================================================\n",
      "Training model\n",
      "==================================================\n",
      "\n",
      "12:44:28 - src.utils.logger - INFO - \n",
      "==================================================\n",
      "Training model\n",
      "==================================================\n",
      "\n",
      "12:44:28 - src.utils.logger - INFO - \n",
      "==================================================\n",
      "Training model\n",
      "==================================================\n",
      "\n",
      "INFO:src.utils.logger:\n",
      "==================================================\n",
      "Training model\n",
      "==================================================\n",
      "\n",
      "12:44:28 - src.utils.logger - INFO - Trained with: {'threshold': 0.9, 'branching_factor': 50, 'n_clusters': 6}\n",
      "12:44:28 - src.utils.logger - INFO - Trained with: {'threshold': 0.9, 'branching_factor': 50, 'n_clusters': 6}\n",
      "12:44:28 - src.utils.logger - INFO - Trained with: {'threshold': 0.9, 'branching_factor': 50, 'n_clusters': 6}\n",
      "12:44:28 - src.utils.logger - INFO - Trained with: {'threshold': 0.9, 'branching_factor': 50, 'n_clusters': 6}\n",
      "12:44:28 - src.utils.logger - INFO - Trained with: {'threshold': 0.9, 'branching_factor': 50, 'n_clusters': 6}\n",
      "INFO:src.utils.logger:Trained with: {'threshold': 0.9, 'branching_factor': 50, 'n_clusters': 6}\n",
      "12:44:28 - src.utils.logger - INFO - \n",
      "==================================================\n",
      "Evaluating the model\n",
      "==================================================\n",
      "\n",
      "12:44:28 - src.utils.logger - INFO - \n",
      "==================================================\n",
      "Evaluating the model\n",
      "==================================================\n",
      "\n",
      "12:44:28 - src.utils.logger - INFO - \n",
      "==================================================\n",
      "Evaluating the model\n",
      "==================================================\n",
      "\n",
      "12:44:28 - src.utils.logger - INFO - \n",
      "==================================================\n",
      "Evaluating the model\n",
      "==================================================\n",
      "\n",
      "12:44:28 - src.utils.logger - INFO - \n",
      "==================================================\n",
      "Evaluating the model\n",
      "==================================================\n",
      "\n",
      "INFO:src.utils.logger:\n",
      "==================================================\n",
      "Evaluating the model\n",
      "==================================================\n",
      "\n",
      "12:44:28 - src.utils.logger - INFO - Scores: {'threshold': 0.9, 'branching_factor': 50, 'n_clusters': 6, 'n_out_clusters': 6, 'n_in_classes': 6, 'homogeneity_score': 0.37275848809183343, 'completeness_score': 0.6320845802814954, 'v_measure_score': 0.46895858648517524, 'silhouette_score': 0.3666709876384292}\n",
      "12:44:28 - src.utils.logger - INFO - Scores: {'threshold': 0.9, 'branching_factor': 50, 'n_clusters': 6, 'n_out_clusters': 6, 'n_in_classes': 6, 'homogeneity_score': 0.37275848809183343, 'completeness_score': 0.6320845802814954, 'v_measure_score': 0.46895858648517524, 'silhouette_score': 0.3666709876384292}\n",
      "12:44:28 - src.utils.logger - INFO - Scores: {'threshold': 0.9, 'branching_factor': 50, 'n_clusters': 6, 'n_out_clusters': 6, 'n_in_classes': 6, 'homogeneity_score': 0.37275848809183343, 'completeness_score': 0.6320845802814954, 'v_measure_score': 0.46895858648517524, 'silhouette_score': 0.3666709876384292}\n",
      "12:44:28 - src.utils.logger - INFO - Scores: {'threshold': 0.9, 'branching_factor': 50, 'n_clusters': 6, 'n_out_clusters': 6, 'n_in_classes': 6, 'homogeneity_score': 0.37275848809183343, 'completeness_score': 0.6320845802814954, 'v_measure_score': 0.46895858648517524, 'silhouette_score': 0.3666709876384292}\n",
      "12:44:28 - src.utils.logger - INFO - Scores: {'threshold': 0.9, 'branching_factor': 50, 'n_clusters': 6, 'n_out_clusters': 6, 'n_in_classes': 6, 'homogeneity_score': 0.37275848809183343, 'completeness_score': 0.6320845802814954, 'v_measure_score': 0.46895858648517524, 'silhouette_score': 0.3666709876384292}\n",
      "INFO:src.utils.logger:Scores: {'threshold': 0.9, 'branching_factor': 50, 'n_clusters': 6, 'n_out_clusters': 6, 'n_in_classes': 6, 'homogeneity_score': 0.37275848809183343, 'completeness_score': 0.6320845802814954, 'v_measure_score': 0.46895858648517524, 'silhouette_score': 0.3666709876384292}\n",
      "12:44:28 - src.utils.logger - INFO - \n",
      "==================================================\n",
      "Writing the results\n",
      "==================================================\n",
      "\n",
      "12:44:28 - src.utils.logger - INFO - \n",
      "==================================================\n",
      "Writing the results\n",
      "==================================================\n",
      "\n",
      "12:44:28 - src.utils.logger - INFO - \n",
      "==================================================\n",
      "Writing the results\n",
      "==================================================\n",
      "\n",
      "12:44:28 - src.utils.logger - INFO - \n",
      "==================================================\n",
      "Writing the results\n",
      "==================================================\n",
      "\n",
      "12:44:28 - src.utils.logger - INFO - \n",
      "==================================================\n",
      "Writing the results\n",
      "==================================================\n",
      "\n",
      "INFO:src.utils.logger:\n",
      "==================================================\n",
      "Writing the results\n",
      "==================================================\n",
      "\n",
      "12:44:28 - src.utils.logger - INFO - Results written in output//glass/Birch/threshold_0.9_branching_factor_50_n_clusters_6/22-10-2023_12h-44m-28s\n",
      "12:44:28 - src.utils.logger - INFO - Results written in output//glass/Birch/threshold_0.9_branching_factor_50_n_clusters_6/22-10-2023_12h-44m-28s\n",
      "12:44:28 - src.utils.logger - INFO - Results written in output//glass/Birch/threshold_0.9_branching_factor_50_n_clusters_6/22-10-2023_12h-44m-28s\n",
      "12:44:28 - src.utils.logger - INFO - Results written in output//glass/Birch/threshold_0.9_branching_factor_50_n_clusters_6/22-10-2023_12h-44m-28s\n",
      "12:44:28 - src.utils.logger - INFO - Results written in output//glass/Birch/threshold_0.9_branching_factor_50_n_clusters_6/22-10-2023_12h-44m-28s\n",
      "INFO:src.utils.logger:Results written in output//glass/Birch/threshold_0.9_branching_factor_50_n_clusters_6/22-10-2023_12h-44m-28s\n",
      "12:44:28 - src.utils.logger - INFO - \n",
      "==================================================\n",
      "Done!\n",
      "==================================================\n",
      "\n",
      "12:44:28 - src.utils.logger - INFO - \n",
      "==================================================\n",
      "Done!\n",
      "==================================================\n",
      "\n",
      "12:44:28 - src.utils.logger - INFO - \n",
      "==================================================\n",
      "Done!\n",
      "==================================================\n",
      "\n",
      "12:44:28 - src.utils.logger - INFO - \n",
      "==================================================\n",
      "Done!\n",
      "==================================================\n",
      "\n",
      "12:44:28 - src.utils.logger - INFO - \n",
      "==================================================\n",
      "Done!\n",
      "==================================================\n",
      "\n",
      "INFO:src.utils.logger:\n",
      "==================================================\n",
      "Done!\n",
      "==================================================\n",
      "\n"
     ]
    }
   ],
   "source": [
    "d_hyperparams = {'threshold': 0.9,\n",
    "                        'branching_factor': 50,\n",
    "                        'n_clusters': 6\n",
    "                }\n",
    "tf = TrainFlow(\"glass\", Birch.Birch, [\"silhouette_score\"], hyperparams=d_hyperparams, target=\"Type\")\n",
    "tf.run();"
   ]
  },
  {
   "cell_type": "code",
   "execution_count": 32,
   "metadata": {},
   "outputs": [
    {
     "data": {
      "text/plain": [
       "0.3666709876384292"
      ]
     },
     "execution_count": 32,
     "metadata": {},
     "output_type": "execute_result"
    }
   ],
   "source": [
    "from sklearn.metrics import silhouette_score\n",
    "X = tf.data_loader.df.drop(columns=\"Type\")\n",
    "y_pred = tf.trained_model.predict(X)\n",
    "silhouette_score(X, y_pred)"
   ]
  },
  {
   "cell_type": "code",
   "execution_count": 40,
   "metadata": {},
   "outputs": [
    {
     "data": {
      "image/png": "[encoded data removed]",
      "text/plain": [
       "<Figure size 432x288 with 1 Axes>"
      ]
     },
     "metadata": {
      "needs_background": "light"
     },
     "output_type": "display_data"
    },
    {
     "data": {
      "image/png": "[encoded data removed]",
      "text/plain": [
       "<Figure size 432x288 with 1 Axes>"
      ]
     },
     "metadata": {
      "needs_background": "light"
     },
     "output_type": "display_data"
    }
   ],
   "source": [
    "# Scatter plot of the 2 first principal components\n",
    "\n",
    "import matplotlib.pyplot as plt\n",
    "import seaborn as sns\n",
    "from sklearn.decomposition import PCA\n",
    "\n",
    "\n",
    "pca = PCA(n_components=2)\n",
    "X = tf.data_loader.df.drop(columns=\"Type\")\n",
    "y = tf.trained_model.predict(X)\n",
    "X = pca.fit_transform(X)\n",
    "\n",
    "y_true = tf.data_loader.df[\"Type\"]\n",
    "sns.scatterplot(x=X[:,0], y=X[:,1], hue=y, palette=\"Set2\")\n",
    "plt.show()\n",
    "sns.scatterplot(x=X[:,0], y=X[:,1], hue=y_true, palette=\"Set2\")\n",
    "plt.show()"
   ]
  },
  {
   "cell_type": "code",
   "execution_count": 42,
   "metadata": {},
   "outputs": [
    {
     "data": {
      "image/png": "[encoded data removed]",
      "text/plain": [
       "<Figure size 432x288 with 1 Axes>"
      ]
     },
     "metadata": {
      "needs_background": "light"
     },
     "output_type": "display_data"
    }
   ],
   "source": [
    "from sklearn.cluster import KMeans\n",
    "\n",
    "X = tf.data_loader.df.drop(columns=\"Type\")\n",
    "ls_clusters = np.arange(2, 10)\n",
    "\n",
    "ls_inertia = []\n",
    "for n in ls_clusters:\n",
    "    kmeans = KMeans(n_clusters=n, random_state=0).fit(X)\n",
    "    ls_inertia.append(kmeans.inertia_)\n",
    "\n",
    "plt.plot(ls_clusters, ls_inertia)\n",
    "plt.show()"
   ]
  }
 ],
 "metadata": {
  "kernelspec": {
   "display_name": "iml_project",
   "language": "python",
   "name": "python3"
  },
  "language_info": {
   "codemirror_mode": {
    "name": "ipython",
    "version": 3
   },
   "file_extension": ".py",
   "mimetype": "text/x-python",
   "name": "python",
   "nbconvert_exporter": "python",
   "pygments_lexer": "ipython3",
   "version": "3.7.16"
  }
 },
 "nbformat": 4,
 "nbformat_minor": 2
}
