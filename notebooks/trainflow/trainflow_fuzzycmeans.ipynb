{
 "cells": [
  {
   "cell_type": "markdown",
   "metadata": {},
   "source": [
    "# Complete Training and Evaluation Pipeline"
   ]
  },
  {
   "cell_type": "code",
   "execution_count": null,
   "metadata": {},
   "outputs": [],
   "source": [
    "from src.clustering import FuzzyCMeans\n",
    "from src.trainflow.TrainFlow import TrainFlow"
   ]
  },
  {
   "cell_type": "markdown",
   "metadata": {},
   "source": [
    "## Trainflow Tutorial"
   ]
  },
  {
   "cell_type": "markdown",
   "metadata": {},
   "source": [
    "Trainflow follows sequentially the following steps:\n",
    "\n",
    "- **Step 1**: Load the data\n",
    "- **Step 2**: Preprocess the data\n",
    "- **Step 3**: Tunes hyperparameters\n",
    "- **Step 4**: Train the model\n",
    "- **Step 5**: Evaluate the model\n",
    "- **Step 6**: Save the model and all the related info"
   ]
  },
  {
   "cell_type": "markdown",
   "metadata": {},
   "source": [
    "If `hyperparams` argument is set to None (default):\n",
    "\n",
    "- Hyperparameters are tuned\n",
    "- The best model is trained\n",
    "\n",
    "otherwise:\n",
    "\n",
    "- Provided `hyperparams` are used as training model"
   ]
  },
  {
   "cell_type": "markdown",
   "metadata": {},
   "source": [
    "**Example**"
   ]
  },
  {
   "cell_type": "code",
   "execution_count": null,
   "metadata": {},
   "outputs": [],
   "source": [
    "d_plot_params = {\n",
    "    0:'build_wind_float',\n",
    "    1:'vehic_wind_float',\n",
    "    2:'tableware',\n",
    "    3:'build_wind_non-float',\n",
    "    4:'headlamps',\n",
    "    5:'containers'\n",
    "}\n",
    "\n",
    "tf = TrainFlow(\"glass\", \n",
    "                FuzzyCMeans.FuzzyCMeans, \n",
    "                [\"v_measure_score\", \"silhouette_score\"],\n",
    "                d_plot_params=d_plot_params,\n",
    "                target=\"Type\")\n",
    "tf.run();"
   ]
  },
  {
   "cell_type": "markdown",
   "metadata": {},
   "source": [
    "Info generated"
   ]
  },
  {
   "cell_type": "markdown",
   "metadata": {},
   "source": [
    "Training params: Parameters used for training the model. In case of hyperparameter tuning, the best model is trained with the best parameters."
   ]
  },
  {
   "cell_type": "code",
   "execution_count": null,
   "metadata": {},
   "outputs": [],
   "source": [
    "tf.training_params"
   ]
  },
  {
   "cell_type": "code",
   "execution_count": null,
   "metadata": {},
   "outputs": [],
   "source": [
    "tf.d_best_params"
   ]
  },
  {
   "cell_type": "markdown",
   "metadata": {},
   "source": [
    "Results: Results of the hyperparameters tuning"
   ]
  },
  {
   "cell_type": "code",
   "execution_count": null,
   "metadata": {},
   "outputs": [],
   "source": [
    "tf.df_results[tf.df_results[\"n_out_clusters\"] == 6].to_dict(\"records\")[0]"
   ]
  },
  {
   "cell_type": "markdown",
   "metadata": {},
   "source": [
    "Model: Trained model"
   ]
  },
  {
   "cell_type": "code",
   "execution_count": null,
   "metadata": {},
   "outputs": [],
   "source": [
    "tf.trained_model"
   ]
  },
  {
   "cell_type": "code",
   "execution_count": null,
   "metadata": {},
   "outputs": [],
   "source": [
    "tf.evaluator.get_top_k_hyperparams('silhouette_score', 5)"
   ]
  },
  {
   "cell_type": "markdown",
   "metadata": {},
   "source": [
    "As we can see above, the trained model scores the same as the best model found during the hyperparameter tuning."
   ]
  },
  {
   "cell_type": "markdown",
   "metadata": {},
   "source": [
    "**Specified Hyperparameters**"
   ]
  },
  {
   "cell_type": "code",
   "execution_count": null,
   "metadata": {},
   "outputs": [],
   "source": [
    "tf.df_results"
   ]
  },
  {
   "cell_type": "code",
   "execution_count": null,
   "metadata": {},
   "outputs": [],
   "source": [
    "tf.df_results.columns"
   ]
  }
 ],
 "metadata": {
  "kernelspec": {
   "display_name": "iml_project",
   "language": "python",
   "name": "python3"
  },
  "language_info": {
   "codemirror_mode": {
    "name": "ipython",
    "version": 3
   },
   "file_extension": ".py",
   "mimetype": "text/x-python",
   "name": "python",
   "nbconvert_exporter": "python",
   "pygments_lexer": "ipython3",
   "version": "3.11.3"
  }
 },
 "nbformat": 4,
 "nbformat_minor": 2
}
